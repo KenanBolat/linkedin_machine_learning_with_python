{
 "cells": [
  {
   "cell_type": "markdown",
   "metadata": {},
   "source": [
    "# How to Normalize Data in Python"
   ]
  },
  {
   "cell_type": "markdown",
   "metadata": {},
   "source": [
    "## Learning Objectives\n",
    "Part of the objective of data preparation, is to transform our data in order to make it more suitable for machine learning. During this step, we often have to restructure some of our data so that it conforms to a particular characteristic. This is known as **normalization** or **standardization**. There are several ways to normalize data in Python. By the end of the tutorial, you will have learned:\n",
    "\n",
    "+ how to perform min-max normalization\n",
    "+ how to perform z-score normalization"
   ]
  },
  {
   "cell_type": "code",
   "execution_count": 1,
   "metadata": {
    "colab": {},
    "colab_type": "code",
    "id": "ZBtXnome3fr0",
    "scrolled": true
   },
   "outputs": [
    {
     "data": {
      "text/html": [
       "<div>\n",
       "<style scoped>\n",
       "    .dataframe tbody tr th:only-of-type {\n",
       "        vertical-align: middle;\n",
       "    }\n",
       "\n",
       "    .dataframe tbody tr th {\n",
       "        vertical-align: top;\n",
       "    }\n",
       "\n",
       "    .dataframe thead th {\n",
       "        text-align: right;\n",
       "    }\n",
       "</style>\n",
       "<table border=\"1\" class=\"dataframe\">\n",
       "  <thead>\n",
       "    <tr style=\"text-align: right;\">\n",
       "      <th></th>\n",
       "      <th>citympg</th>\n",
       "      <th>cylinders</th>\n",
       "      <th>displacement</th>\n",
       "      <th>drive</th>\n",
       "      <th>highwaympg</th>\n",
       "      <th>make</th>\n",
       "      <th>model</th>\n",
       "      <th>class</th>\n",
       "      <th>year</th>\n",
       "      <th>transmissiontype</th>\n",
       "      <th>transmissionspeeds</th>\n",
       "      <th>co2emissions</th>\n",
       "    </tr>\n",
       "  </thead>\n",
       "  <tbody>\n",
       "    <tr>\n",
       "      <th>0</th>\n",
       "      <td>14.0</td>\n",
       "      <td>6</td>\n",
       "      <td>4.1</td>\n",
       "      <td>2-Wheel Drive</td>\n",
       "      <td>19.0</td>\n",
       "      <td>Buick</td>\n",
       "      <td>Electra/Park Avenue</td>\n",
       "      <td>Large Cars</td>\n",
       "      <td>1984</td>\n",
       "      <td>Automatic</td>\n",
       "      <td>4</td>\n",
       "      <td>555.437500</td>\n",
       "    </tr>\n",
       "    <tr>\n",
       "      <th>1</th>\n",
       "      <td>14.0</td>\n",
       "      <td>8</td>\n",
       "      <td>5.0</td>\n",
       "      <td>2-Wheel Drive</td>\n",
       "      <td>20.0</td>\n",
       "      <td>Buick</td>\n",
       "      <td>Electra/Park Avenue</td>\n",
       "      <td>Large Cars</td>\n",
       "      <td>1984</td>\n",
       "      <td>Automatic</td>\n",
       "      <td>4</td>\n",
       "      <td>555.437500</td>\n",
       "    </tr>\n",
       "    <tr>\n",
       "      <th>2</th>\n",
       "      <td>18.0</td>\n",
       "      <td>8</td>\n",
       "      <td>5.7</td>\n",
       "      <td>2-Wheel Drive</td>\n",
       "      <td>26.0</td>\n",
       "      <td>Buick</td>\n",
       "      <td>Electra/Park Avenue</td>\n",
       "      <td>Large Cars</td>\n",
       "      <td>1984</td>\n",
       "      <td>Automatic</td>\n",
       "      <td>4</td>\n",
       "      <td>484.761905</td>\n",
       "    </tr>\n",
       "    <tr>\n",
       "      <th>3</th>\n",
       "      <td>21.0</td>\n",
       "      <td>6</td>\n",
       "      <td>4.3</td>\n",
       "      <td>Rear-Wheel Drive</td>\n",
       "      <td>31.0</td>\n",
       "      <td>Cadillac</td>\n",
       "      <td>Fleetwood/DeVille (FWD)</td>\n",
       "      <td>Large Cars</td>\n",
       "      <td>1984</td>\n",
       "      <td>Automatic</td>\n",
       "      <td>4</td>\n",
       "      <td>424.166667</td>\n",
       "    </tr>\n",
       "    <tr>\n",
       "      <th>4</th>\n",
       "      <td>14.0</td>\n",
       "      <td>8</td>\n",
       "      <td>4.1</td>\n",
       "      <td>Rear-Wheel Drive</td>\n",
       "      <td>19.0</td>\n",
       "      <td>Cadillac</td>\n",
       "      <td>Brougham/DeVille (RWD)</td>\n",
       "      <td>Large Cars</td>\n",
       "      <td>1984</td>\n",
       "      <td>Automatic</td>\n",
       "      <td>4</td>\n",
       "      <td>555.437500</td>\n",
       "    </tr>\n",
       "  </tbody>\n",
       "</table>\n",
       "</div>"
      ],
      "text/plain": [
       "   citympg  cylinders  displacement             drive  highwaympg      make  \\\n",
       "0     14.0          6           4.1     2-Wheel Drive        19.0     Buick   \n",
       "1     14.0          8           5.0     2-Wheel Drive        20.0     Buick   \n",
       "2     18.0          8           5.7     2-Wheel Drive        26.0     Buick   \n",
       "3     21.0          6           4.3  Rear-Wheel Drive        31.0  Cadillac   \n",
       "4     14.0          8           4.1  Rear-Wheel Drive        19.0  Cadillac   \n",
       "\n",
       "                     model       class  year transmissiontype  \\\n",
       "0      Electra/Park Avenue  Large Cars  1984        Automatic   \n",
       "1      Electra/Park Avenue  Large Cars  1984        Automatic   \n",
       "2      Electra/Park Avenue  Large Cars  1984        Automatic   \n",
       "3  Fleetwood/DeVille (FWD)  Large Cars  1984        Automatic   \n",
       "4   Brougham/DeVille (RWD)  Large Cars  1984        Automatic   \n",
       "\n",
       "   transmissionspeeds  co2emissions  \n",
       "0                   4    555.437500  \n",
       "1                   4    555.437500  \n",
       "2                   4    484.761905  \n",
       "3                   4    424.166667  \n",
       "4                   4    555.437500  "
      ]
     },
     "execution_count": 1,
     "metadata": {},
     "output_type": "execute_result"
    }
   ],
   "source": [
    "import pandas as pd\n",
    "vehicles = pd.read_csv(\"vehicles.csv\")\n",
    "vehicles.head()"
   ]
  },
  {
   "cell_type": "code",
   "execution_count": 2,
   "metadata": {
    "scrolled": true
   },
   "outputs": [
    {
     "data": {
      "text/html": [
       "<div>\n",
       "<style scoped>\n",
       "    .dataframe tbody tr th:only-of-type {\n",
       "        vertical-align: middle;\n",
       "    }\n",
       "\n",
       "    .dataframe tbody tr th {\n",
       "        vertical-align: top;\n",
       "    }\n",
       "\n",
       "    .dataframe thead th {\n",
       "        text-align: right;\n",
       "    }\n",
       "</style>\n",
       "<table border=\"1\" class=\"dataframe\">\n",
       "  <thead>\n",
       "    <tr style=\"text-align: right;\">\n",
       "      <th></th>\n",
       "      <th>co2emissions</th>\n",
       "    </tr>\n",
       "  </thead>\n",
       "  <tbody>\n",
       "    <tr>\n",
       "      <th>count</th>\n",
       "      <td>36979.000000</td>\n",
       "    </tr>\n",
       "    <tr>\n",
       "      <th>mean</th>\n",
       "      <td>476.550703</td>\n",
       "    </tr>\n",
       "    <tr>\n",
       "      <th>std</th>\n",
       "      <td>117.791357</td>\n",
       "    </tr>\n",
       "    <tr>\n",
       "      <th>min</th>\n",
       "      <td>29.000000</td>\n",
       "    </tr>\n",
       "    <tr>\n",
       "      <th>25%</th>\n",
       "      <td>400.000000</td>\n",
       "    </tr>\n",
       "    <tr>\n",
       "      <th>50%</th>\n",
       "      <td>467.736842</td>\n",
       "    </tr>\n",
       "    <tr>\n",
       "      <th>75%</th>\n",
       "      <td>555.437500</td>\n",
       "    </tr>\n",
       "    <tr>\n",
       "      <th>max</th>\n",
       "      <td>1269.571429</td>\n",
       "    </tr>\n",
       "  </tbody>\n",
       "</table>\n",
       "</div>"
      ],
      "text/plain": [
       "       co2emissions\n",
       "count  36979.000000\n",
       "mean     476.550703\n",
       "std      117.791357\n",
       "min       29.000000\n",
       "25%      400.000000\n",
       "50%      467.736842\n",
       "75%      555.437500\n",
       "max     1269.571429"
      ]
     },
     "execution_count": 2,
     "metadata": {},
     "output_type": "execute_result"
    }
   ],
   "source": [
    "vehicles[['co2emissions']].describe()"
   ]
  },
  {
   "cell_type": "code",
   "execution_count": 3,
   "metadata": {
    "scrolled": false
   },
   "outputs": [
    {
     "data": {
      "text/plain": [
       "<AxesSubplot: ylabel='Frequency'>"
      ]
     },
     "execution_count": 3,
     "metadata": {},
     "output_type": "execute_result"
    },
    {
     "data": {
      "image/png": "[encoded data removed]",
      "text/plain": [
       "<Figure size 1000x600 with 1 Axes>"
      ]
     },
     "metadata": {},
     "output_type": "display_data"
    }
   ],
   "source": [
    "%matplotlib inline\n",
    "vehicles[['co2emissions']].plot(kind = 'hist', \n",
    "                                bins = 20, \n",
    "                                figsize = (10, 6))"
   ]
  },
  {
   "cell_type": "markdown",
   "metadata": {},
   "source": [
    "## How to perform min-max Normalization"
   ]
  },
  {
   "cell_type": "code",
   "execution_count": 8,
   "metadata": {},
   "outputs": [],
   "source": [
    "from sklearn.preprocessing import MinMaxScaler"
   ]
  },
  {
   "cell_type": "code",
   "execution_count": 10,
   "metadata": {},
   "outputs": [
    {
     "data": {
      "text/plain": [
       "array([[0.42435082],\n",
       "       [0.42435082],\n",
       "       [0.36738062],\n",
       "       ...,\n",
       "       [0.38208199],\n",
       "       [0.50944265],\n",
       "       [0.41674344]])"
      ]
     },
     "execution_count": 10,
     "metadata": {},
     "output_type": "execute_result"
    }
   ],
   "source": [
    "co2emisions_mm = MinMaxScaler().fit_transform(vehicles[['co2emissions']])\n",
    "co2emisions_mm"
   ]
  },
  {
   "cell_type": "code",
   "execution_count": 12,
   "metadata": {},
   "outputs": [
    {
     "data": {
      "text/html": [
       "<div>\n",
       "<style scoped>\n",
       "    .dataframe tbody tr th:only-of-type {\n",
       "        vertical-align: middle;\n",
       "    }\n",
       "\n",
       "    .dataframe tbody tr th {\n",
       "        vertical-align: top;\n",
       "    }\n",
       "\n",
       "    .dataframe thead th {\n",
       "        text-align: right;\n",
       "    }\n",
       "</style>\n",
       "<table border=\"1\" class=\"dataframe\">\n",
       "  <thead>\n",
       "    <tr style=\"text-align: right;\">\n",
       "      <th></th>\n",
       "      <th>co2emisions_mm</th>\n",
       "    </tr>\n",
       "  </thead>\n",
       "  <tbody>\n",
       "    <tr>\n",
       "      <th>count</th>\n",
       "      <td>36979.000000</td>\n",
       "    </tr>\n",
       "    <tr>\n",
       "      <th>mean</th>\n",
       "      <td>0.360762</td>\n",
       "    </tr>\n",
       "    <tr>\n",
       "      <th>std</th>\n",
       "      <td>0.094949</td>\n",
       "    </tr>\n",
       "    <tr>\n",
       "      <th>min</th>\n",
       "      <td>0.000000</td>\n",
       "    </tr>\n",
       "    <tr>\n",
       "      <th>25%</th>\n",
       "      <td>0.299056</td>\n",
       "    </tr>\n",
       "    <tr>\n",
       "      <th>50%</th>\n",
       "      <td>0.353657</td>\n",
       "    </tr>\n",
       "    <tr>\n",
       "      <th>75%</th>\n",
       "      <td>0.424351</td>\n",
       "    </tr>\n",
       "    <tr>\n",
       "      <th>max</th>\n",
       "      <td>1.000000</td>\n",
       "    </tr>\n",
       "  </tbody>\n",
       "</table>\n",
       "</div>"
      ],
      "text/plain": [
       "       co2emisions_mm\n",
       "count    36979.000000\n",
       "mean         0.360762\n",
       "std          0.094949\n",
       "min          0.000000\n",
       "25%          0.299056\n",
       "50%          0.353657\n",
       "75%          0.424351\n",
       "max          1.000000"
      ]
     },
     "execution_count": 12,
     "metadata": {},
     "output_type": "execute_result"
    }
   ],
   "source": [
    "co2emisions_mm = pd.DataFrame(co2emisions_mm, columns = [ 'co2emisions_mm'])\n",
    "co2emisions_mm.describe()"
   ]
  },
  {
   "cell_type": "code",
   "execution_count": null,
   "metadata": {},
   "outputs": [],
   "source": []
  },
  {
   "cell_type": "code",
   "execution_count": 14,
   "metadata": {},
   "outputs": [
    {
     "data": {
      "text/plain": [
       "<AxesSubplot: ylabel='Frequency'>"
      ]
     },
     "execution_count": 14,
     "metadata": {},
     "output_type": "execute_result"
    },
    {
     "data": {
      "image/png": "[encoded data removed]",
      "text/plain": [
       "<Figure size 1000x600 with 1 Axes>"
      ]
     },
     "metadata": {},
     "output_type": "display_data"
    }
   ],
   "source": [
    "co2emisions_mm.plot(kind = 'hist', \n",
    "                     bins = 20, \n",
    "                     figsize = (10, 6))"
   ]
  },
  {
   "cell_type": "markdown",
   "metadata": {},
   "source": [
    "## How to perform z-score Normalization"
   ]
  },
  {
   "cell_type": "code",
   "execution_count": 16,
   "metadata": {},
   "outputs": [],
   "source": [
    "from sklearn.preprocessing import StandardScaler"
   ]
  },
  {
   "cell_type": "code",
   "execution_count": 17,
   "metadata": {},
   "outputs": [
    {
     "data": {
      "text/html": [
       "<div>\n",
       "<style scoped>\n",
       "    .dataframe tbody tr th:only-of-type {\n",
       "        vertical-align: middle;\n",
       "    }\n",
       "\n",
       "    .dataframe tbody tr th {\n",
       "        vertical-align: top;\n",
       "    }\n",
       "\n",
       "    .dataframe thead th {\n",
       "        text-align: right;\n",
       "    }\n",
       "</style>\n",
       "<table border=\"1\" class=\"dataframe\">\n",
       "  <thead>\n",
       "    <tr style=\"text-align: right;\">\n",
       "      <th></th>\n",
       "      <th>co2emissions</th>\n",
       "    </tr>\n",
       "  </thead>\n",
       "  <tbody>\n",
       "    <tr>\n",
       "      <th>count</th>\n",
       "      <td>3.697900e+04</td>\n",
       "    </tr>\n",
       "    <tr>\n",
       "      <th>mean</th>\n",
       "      <td>-1.844617e-16</td>\n",
       "    </tr>\n",
       "    <tr>\n",
       "      <th>std</th>\n",
       "      <td>1.000014e+00</td>\n",
       "    </tr>\n",
       "    <tr>\n",
       "      <th>min</th>\n",
       "      <td>-3.799572e+00</td>\n",
       "    </tr>\n",
       "    <tr>\n",
       "      <th>25%</th>\n",
       "      <td>-6.498927e-01</td>\n",
       "    </tr>\n",
       "    <tr>\n",
       "      <th>50%</th>\n",
       "      <td>-7.482706e-02</td>\n",
       "    </tr>\n",
       "    <tr>\n",
       "      <th>75%</th>\n",
       "      <td>6.697254e-01</td>\n",
       "    </tr>\n",
       "    <tr>\n",
       "      <th>max</th>\n",
       "      <td>6.732510e+00</td>\n",
       "    </tr>\n",
       "  </tbody>\n",
       "</table>\n",
       "</div>"
      ],
      "text/plain": [
       "       co2emissions\n",
       "count  3.697900e+04\n",
       "mean  -1.844617e-16\n",
       "std    1.000014e+00\n",
       "min   -3.799572e+00\n",
       "25%   -6.498927e-01\n",
       "50%   -7.482706e-02\n",
       "75%    6.697254e-01\n",
       "max    6.732510e+00"
      ]
     },
     "execution_count": 17,
     "metadata": {},
     "output_type": "execute_result"
    }
   ],
   "source": [
    "co2emissions_zm = StandardScaler().fit_transform(vehicles[['co2emissions']])\n",
    "co2emissions_zm = pd.DataFrame(co2emissions_zm, columns = ['co2emissions'])\n",
    "co2emissions_zm.describe()"
   ]
  },
  {
   "cell_type": "code",
   "execution_count": 18,
   "metadata": {},
   "outputs": [
    {
     "data": {
      "text/plain": [
       "<AxesSubplot: ylabel='Frequency'>"
      ]
     },
     "execution_count": 18,
     "metadata": {},
     "output_type": "execute_result"
    },
    {
     "data": {
      "image/png": "[encoded data removed]",
      "text/plain": [
       "<Figure size 1000x600 with 1 Axes>"
      ]
     },
     "metadata": {},
     "output_type": "display_data"
    }
   ],
   "source": [
    "co2emissions_zm.plot(kind = 'hist', \n",
    "                     bins = 20, \n",
    "                     figsize = (10, 6))"
   ]
  }
 ],
 "metadata": {
  "colab": {
   "collapsed_sections": [],
   "name": "3.3 - Pandas Data Selection.ipynb",
   "provenance": [],
   "toc_visible": true,
   "version": "0.3.2"
  },
  "kernelspec": {
   "display_name": ".venv",
   "language": "python",
   "name": ".venv"
  },
  "language_info": {
   "codemirror_mode": {
    "name": "ipython",
    "version": 3
   },
   "file_extension": ".py",
   "mimetype": "text/x-python",
   "name": "python",
   "nbconvert_exporter": "python",
   "pygments_lexer": "ipython3",
   "version": "3.10.6"
  }
 },
 "nbformat": 4,
 "nbformat_minor": 1
}
